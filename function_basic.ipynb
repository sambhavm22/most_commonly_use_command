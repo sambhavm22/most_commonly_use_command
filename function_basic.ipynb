{
 "cells": [
  {
   "cell_type": "code",
   "execution_count": 1,
   "metadata": {},
   "outputs": [
    {
     "name": "stdout",
     "output_type": "stream",
     "text": [
      "Hi There!\n",
      "Welcome aboard\n"
     ]
    }
   ],
   "source": [
    "def greet():\n",
    "    print(\"Hi There!\")\n",
    "    print(\"Welcome aboard\")\n",
    "\n",
    "greet()    "
   ]
  },
  {
   "cell_type": "code",
   "execution_count": 9,
   "metadata": {},
   "outputs": [
    {
     "name": "stdout",
     "output_type": "stream",
     "text": [
      "Hi There! Sambhav Mehta\n",
      "Welcome aboard\n",
      "Hi There! Akshay Sahu\n",
      "Welcome aboard\n"
     ]
    }
   ],
   "source": [
    "#parameters are the first and last names i.e. input provide to the function\n",
    "def greet(first_name: str, last_name: str) -> str: \n",
    "    print(f\"Hi There! {first_name} {last_name}\")\n",
    "    print(\"Welcome aboard\")\n",
    "\n",
    "#whereas agruments are the actual value to the given parameters\n",
    "greet(first_name=\"Sambhav\", last_name=\"Mehta\")  \n",
    "greet(first_name=\"Akshay\",last_name=\"Sahu\")  "
   ]
  },
  {
   "cell_type": "markdown",
   "metadata": {},
   "source": [
    "#### There are 2 type of functions: \n",
    "##### 1. Functions that perform a task (for eg print function)\n",
    "##### 2. Functions that return a value (for eg. round function)\n"
   ]
  },
  {
   "cell_type": "code",
   "execution_count": 15,
   "metadata": {},
   "outputs": [
    {
     "name": "stdout",
     "output_type": "stream",
     "text": [
      "Hi There! Sam\n",
      "Hi There! Sam\n",
      "None\n"
     ]
    }
   ],
   "source": [
    "#function performing a task\n",
    "def greet(name):\n",
    "    print(f\"Hi There! {name}\")\n",
    "\n",
    "greet(name=\"Sam\") \n",
    "print(greet(name=\"Sam\"))"
   ]
  },
  {
   "cell_type": "code",
   "execution_count": 16,
   "metadata": {},
   "outputs": [
    {
     "name": "stdout",
     "output_type": "stream",
     "text": [
      "Hi There! Sam\n",
      "None\n"
     ]
    }
   ],
   "source": [
    "#function performing a task\n",
    "def greet(name):\n",
    "    print(f\"Hi There! {name}\")\n",
    "\n",
    "# by default , the function return value is None\n",
    "print(greet(name=\"Sam\"))"
   ]
  },
  {
   "cell_type": "code",
   "execution_count": 17,
   "metadata": {},
   "outputs": [
    {
     "name": "stdout",
     "output_type": "stream",
     "text": [
      "...\n"
     ]
    }
   ],
   "source": [
    "def greet(name):\n",
    "    return \"...\"\n",
    "\n",
    "print(greet(name=\"Sam\"))\n",
    "## now the function returns \"...\" value"
   ]
  },
  {
   "cell_type": "code",
   "execution_count": 11,
   "metadata": {},
   "outputs": [
    {
     "data": {
      "text/plain": [
       "'Hello There! PRM'"
      ]
     },
     "execution_count": 11,
     "metadata": {},
     "output_type": "execute_result"
    }
   ],
   "source": [
    "#function returning a value\n",
    "def greet(name):\n",
    "    return f\"Hello There! {name}\"\n",
    "greet(name=\"PRM\")\n"
   ]
  },
  {
   "cell_type": "code",
   "execution_count": 13,
   "metadata": {},
   "outputs": [
    {
     "data": {
      "text/plain": [
       "16"
      ]
     },
     "execution_count": 13,
     "metadata": {},
     "output_type": "execute_result"
    }
   ],
   "source": [
    "#function returning a value\n",
    "def greet(name):\n",
    "    return f\"Hello There! {name}\"\n",
    "\n",
    "message = greet(name=\"PRM\")\n",
    "file = open(file=\"content.txt\", mode=\"w\")\n",
    "#it will also return no of character in the file\n",
    "file.write(message)"
   ]
  },
  {
   "cell_type": "code",
   "execution_count": 19,
   "metadata": {},
   "outputs": [
    {
     "name": "stdout",
     "output_type": "stream",
     "text": [
      "3\n"
     ]
    }
   ],
   "source": [
    "##optional paramters\n",
    "\n",
    "# def increment(number, by):\n",
    "#     return number + by\n",
    "\n",
    "# print(increment(2,5))\n",
    "\n",
    "#given parameter value in the function itself will give you optional parameter value\n",
    "def increment(number, by=1):\n",
    "    return number + by\n",
    "\n",
    "print(increment(2))"
   ]
  },
  {
   "cell_type": "markdown",
   "metadata": {},
   "source": [
    "## Args"
   ]
  },
  {
   "cell_type": "code",
   "execution_count": 20,
   "metadata": {},
   "outputs": [
    {
     "data": {
      "text/plain": [
       "12"
      ]
     },
     "execution_count": 20,
     "metadata": {},
     "output_type": "execute_result"
    }
   ],
   "source": [
    "def multiply(x, y):\n",
    "    return x*y\n",
    "\n",
    "multiply(3,4)"
   ]
  },
  {
   "cell_type": "code",
   "execution_count": 21,
   "metadata": {},
   "outputs": [
    {
     "ename": "TypeError",
     "evalue": "multiply() takes 2 positional arguments but 5 were given",
     "output_type": "error",
     "traceback": [
      "\u001b[0;31m---------------------------------------------------------------------------\u001b[0m",
      "\u001b[0;31mTypeError\u001b[0m                                 Traceback (most recent call last)",
      "\u001b[1;32m/Users/aakanksha/Practice_Folder/practice.ipynb Cell 12\u001b[0m line \u001b[0;36m6\n\u001b[1;32m      <a href='vscode-notebook-cell:/Users/aakanksha/Practice_Folder/practice.ipynb#X13sZmlsZQ%3D%3D?line=2'>3</a>\u001b[0m \u001b[39mdef\u001b[39;00m \u001b[39mmultiply\u001b[39m(x, y):\n\u001b[1;32m      <a href='vscode-notebook-cell:/Users/aakanksha/Practice_Folder/practice.ipynb#X13sZmlsZQ%3D%3D?line=3'>4</a>\u001b[0m     \u001b[39mreturn\u001b[39;00m x\u001b[39m*\u001b[39my\n\u001b[0;32m----> <a href='vscode-notebook-cell:/Users/aakanksha/Practice_Folder/practice.ipynb#X13sZmlsZQ%3D%3D?line=5'>6</a>\u001b[0m multiply(\u001b[39m3\u001b[39;49m,\u001b[39m4\u001b[39;49m,\u001b[39m4\u001b[39;49m,\u001b[39m5\u001b[39;49m,\u001b[39m6\u001b[39;49m)\n",
      "\u001b[0;31mTypeError\u001b[0m: multiply() takes 2 positional arguments but 5 were given"
     ]
    }
   ],
   "source": [
    "#what if we have more than 2 arguments then it will throw an error\n",
    "\n",
    "def multiply(x, y):\n",
    "    return x*y\n",
    "\n",
    "multiply(3,4,4,5,6)"
   ]
  },
  {
   "cell_type": "code",
   "execution_count": 22,
   "metadata": {},
   "outputs": [
    {
     "data": {
      "text/plain": [
       "1440"
      ]
     },
     "execution_count": 22,
     "metadata": {},
     "output_type": "execute_result"
    }
   ],
   "source": [
    "# in order to overcome this problem we use *args\n",
    "\n",
    "def multiply(*numbers):\n",
    "    total = 1\n",
    "    for number in numbers:\n",
    "        total *= number\n",
    "    return total\n",
    "\n",
    "multiply(3,4,4,5,6)"
   ]
  },
  {
   "cell_type": "code",
   "execution_count": 12,
   "metadata": {},
   "outputs": [
    {
     "name": "stdout",
     "output_type": "stream",
     "text": [
      "(3, 4, 4, 5, 6)\n",
      "<class 'tuple'>\n"
     ]
    }
   ],
   "source": [
    "def multiply(*numbers): #this will return data in tuple format\n",
    "    return numbers\n",
    "\n",
    "print(multiply(3,4,4,5,6))\n",
    "print(type(multiply(3,4,4,5,6)))"
   ]
  },
  {
   "cell_type": "code",
   "execution_count": 1,
   "metadata": {},
   "outputs": [
    {
     "name": "stdout",
     "output_type": "stream",
     "text": [
      "{'id': 1, 'name': 'Sam', 'age': 26}\n"
     ]
    }
   ],
   "source": [
    "def save_user(**details): # this function returns data in dictionary format/data type i.e. key value pairs\n",
    "        print(details)\n",
    "\n",
    "save_user(id = 1, name = 'Sam', age = 26)    "
   ]
  },
  {
   "cell_type": "code",
   "execution_count": 4,
   "metadata": {},
   "outputs": [
    {
     "name": "stdout",
     "output_type": "stream",
     "text": [
      "1\n"
     ]
    }
   ],
   "source": [
    "def save_user(**details): \n",
    "        print(details[\"id\"]) # now it will return only the value corresponding to the given key\n",
    "\n",
    "save_user(id = 1, name = 'Sam', age = 26)    "
   ]
  },
  {
   "cell_type": "code",
   "execution_count": 5,
   "metadata": {},
   "outputs": [
    {
     "name": "stdout",
     "output_type": "stream",
     "text": [
      "Sam\n"
     ]
    }
   ],
   "source": [
    "def save_user(**details): \n",
    "        print(details[\"name\"]) # now it will return only the value corresponding to the given key\n",
    "\n",
    "save_user(id = 1, name = 'Sam', age = 26)   "
   ]
  },
  {
   "cell_type": "code",
   "execution_count": 2,
   "metadata": {},
   "outputs": [
    {
     "ename": "TypeError",
     "evalue": "multiply() got an unexpected keyword argument 'id'",
     "output_type": "error",
     "traceback": [
      "\u001b[0;31m---------------------------------------------------------------------------\u001b[0m",
      "\u001b[0;31mTypeError\u001b[0m                                 Traceback (most recent call last)",
      "\u001b[1;32m/Users/aakanksha/Practice_Folder/function_basic.ipynb Cell 15\u001b[0m line \u001b[0;36m7\n\u001b[1;32m      <a href='vscode-notebook-cell:/Users/aakanksha/Practice_Folder/function_basic.ipynb#X21sZmlsZQ%3D%3D?line=3'>4</a>\u001b[0m         total \u001b[39m*\u001b[39m\u001b[39m=\u001b[39m number\n\u001b[1;32m      <a href='vscode-notebook-cell:/Users/aakanksha/Practice_Folder/function_basic.ipynb#X21sZmlsZQ%3D%3D?line=4'>5</a>\u001b[0m     \u001b[39mreturn\u001b[39;00m total\n\u001b[0;32m----> <a href='vscode-notebook-cell:/Users/aakanksha/Practice_Folder/function_basic.ipynb#X21sZmlsZQ%3D%3D?line=6'>7</a>\u001b[0m multiply(\u001b[39mid\u001b[39;49m \u001b[39m=\u001b[39;49m \u001b[39m1\u001b[39;49m, order_id \u001b[39m=\u001b[39;49m \u001b[39m23\u001b[39;49m, customer_id \u001b[39m=\u001b[39;49m \u001b[39m11\u001b[39;49m)\n",
      "\u001b[0;31mTypeError\u001b[0m: multiply() got an unexpected keyword argument 'id'"
     ]
    }
   ],
   "source": [
    "def multiply(*numbers):\n",
    "    total = 1\n",
    "    for number in numbers:\n",
    "        total *= number\n",
    "    return total\n",
    "\n",
    "multiply(id = 1, order_id = 23, customer_id = 11)"
   ]
  },
  {
   "cell_type": "markdown",
   "metadata": {},
   "source": [
    "## Scope"
   ]
  },
  {
   "cell_type": "code",
   "execution_count": 9,
   "metadata": {},
   "outputs": [
    {
     "data": {
      "text/plain": [
       "'fizz_buzz'"
      ]
     },
     "execution_count": 9,
     "metadata": {},
     "output_type": "execute_result"
    }
   ],
   "source": [
    "def fizz_buzz(input):\n",
    "    if input % 3 == 0 and input % 5 == 0:\n",
    "        return \"fizz_buzz\"\n",
    "    if input % 3 == 0:\n",
    "        return \"fizz\"\n",
    "    if input % 5 == 0:\n",
    "        return \"buzz\"\n",
    "    return input\n",
    "\n",
    "fizz_buzz(input=15)"
   ]
  },
  {
   "cell_type": "code",
   "execution_count": null,
   "metadata": {},
   "outputs": [],
   "source": []
  }
 ],
 "metadata": {
  "kernelspec": {
   "display_name": "Python 3.9 (tensorflow)",
   "language": "python",
   "name": "tensorflow"
  },
  "language_info": {
   "codemirror_mode": {
    "name": "ipython",
    "version": 3
   },
   "file_extension": ".py",
   "mimetype": "text/x-python",
   "name": "python",
   "nbconvert_exporter": "python",
   "pygments_lexer": "ipython3",
   "version": "3.9.18"
  },
  "orig_nbformat": 4
 },
 "nbformat": 4,
 "nbformat_minor": 2
}
